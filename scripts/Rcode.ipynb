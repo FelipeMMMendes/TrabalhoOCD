{
  "nbformat": 4,
  "nbformat_minor": 0,
  "metadata": {
    "colab": {
      "provenance": []
    },
    "kernelspec": {
      "name": "ir",
      "display_name": "R"
    },
    "language_info": {
      "name": "R"
    }
  },
  "cells": [
    {
      "cell_type": "code",
      "source": [
        "#desliga a notacao cientifica\n",
        "options=(scipen=999)"
      ],
      "metadata": {
        "id": "SN3xXVgQZ3i2"
      },
      "execution_count": 1,
      "outputs": []
    },
    {
      "cell_type": "code",
      "source": [
        "library(AER)\n",
        "library(jtools)"
      ],
      "metadata": {
        "colab": {
          "base_uri": "https://localhost:8080/",
          "height": 140
        },
        "id": "8MbMogNveAcH",
        "outputId": "029e8649-8ab7-4ff6-e7c0-a29c9693da90"
      },
      "execution_count": 2,
      "outputs": [
        {
          "output_type": "error",
          "ename": "ERROR",
          "evalue": "ignored",
          "traceback": [
            "Error in library(AER): there is no package called ‘AER’\nTraceback:\n",
            "1. library(AER)"
          ]
        }
      ]
    },
    {
      "cell_type": "code",
      "source": [
        "#lendo os dados\n",
        "df <- read.csv(\"https://raw.githubusercontent.com/FelipeMMMendes/TrabalhoOCD/main/data/Dados_Poisson.csv\")"
      ],
      "metadata": {
        "id": "ILJzbzt-aMlO"
      },
      "execution_count": 3,
      "outputs": []
    },
    {
      "cell_type": "code",
      "source": [
        "head(df)"
      ],
      "metadata": {
        "colab": {
          "base_uri": "https://localhost:8080/",
          "height": 286
        },
        "id": "YjHeGNpRaiU6",
        "outputId": "4315c335-e5eb-48d8-b5b0-206bb5778dcf"
      },
      "execution_count": 4,
      "outputs": [
        {
          "output_type": "display_data",
          "data": {
            "text/html": [
              "<table class=\"dataframe\">\n",
              "<caption>A data.frame: 6 × 5</caption>\n",
              "<thead>\n",
              "\t<tr><th></th><th scope=col>Ppcode</th><th scope=col>Age</th><th scope=col>Sex</th><th scope=col>Love_music</th><th scope=col>Gigs</th></tr>\n",
              "\t<tr><th></th><th scope=col>&lt;int&gt;</th><th scope=col>&lt;int&gt;</th><th scope=col>&lt;int&gt;</th><th scope=col>&lt;dbl&gt;</th><th scope=col>&lt;int&gt;</th></tr>\n",
              "</thead>\n",
              "<tbody>\n",
              "\t<tr><th scope=row>1</th><td>368</td><td>22</td><td>0</td><td>3.5</td><td>6</td></tr>\n",
              "\t<tr><th scope=row>2</th><td> 42</td><td>18</td><td>0</td><td>1.0</td><td>2</td></tr>\n",
              "\t<tr><th scope=row>3</th><td>509</td><td>47</td><td>0</td><td>1.3</td><td>3</td></tr>\n",
              "\t<tr><th scope=row>4</th><td> 43</td><td>20</td><td>0</td><td>3.7</td><td>8</td></tr>\n",
              "\t<tr><th scope=row>5</th><td>352</td><td>19</td><td>0</td><td>1.9</td><td>9</td></tr>\n",
              "\t<tr><th scope=row>6</th><td> 74</td><td>24</td><td>0</td><td>1.8</td><td>1</td></tr>\n",
              "</tbody>\n",
              "</table>\n"
            ],
            "text/markdown": "\nA data.frame: 6 × 5\n\n| <!--/--> | Ppcode &lt;int&gt; | Age &lt;int&gt; | Sex &lt;int&gt; | Love_music &lt;dbl&gt; | Gigs &lt;int&gt; |\n|---|---|---|---|---|---|\n| 1 | 368 | 22 | 0 | 3.5 | 6 |\n| 2 |  42 | 18 | 0 | 1.0 | 2 |\n| 3 | 509 | 47 | 0 | 1.3 | 3 |\n| 4 |  43 | 20 | 0 | 3.7 | 8 |\n| 5 | 352 | 19 | 0 | 1.9 | 9 |\n| 6 |  74 | 24 | 0 | 1.8 | 1 |\n\n",
            "text/latex": "A data.frame: 6 × 5\n\\begin{tabular}{r|lllll}\n  & Ppcode & Age & Sex & Love\\_music & Gigs\\\\\n  & <int> & <int> & <int> & <dbl> & <int>\\\\\n\\hline\n\t1 & 368 & 22 & 0 & 3.5 & 6\\\\\n\t2 &  42 & 18 & 0 & 1.0 & 2\\\\\n\t3 & 509 & 47 & 0 & 1.3 & 3\\\\\n\t4 &  43 & 20 & 0 & 3.7 & 8\\\\\n\t5 & 352 & 19 & 0 & 1.9 & 9\\\\\n\t6 &  74 & 24 & 0 & 1.8 & 1\\\\\n\\end{tabular}\n",
            "text/plain": [
              "  Ppcode Age Sex Love_music Gigs\n",
              "1 368    22  0   3.5        6   \n",
              "2  42    18  0   1.0        2   \n",
              "3 509    47  0   1.3        3   \n",
              "4  43    20  0   3.7        8   \n",
              "5 352    19  0   1.9        9   \n",
              "6  74    24  0   1.8        1   "
            ]
          },
          "metadata": {}
        }
      ]
    },
    {
      "cell_type": "code",
      "source": [
        "#Normalizando a coluna Sex, colocando 0 como male e 1 como female\n",
        "#df$Sex <- ifelse(df$Sex == 0, \"male\", \"female\")"
      ],
      "metadata": {
        "id": "c6NdMicca3Ez"
      },
      "execution_count": null,
      "outputs": []
    },
    {
      "cell_type": "code",
      "source": [
        "head(df)"
      ],
      "metadata": {
        "colab": {
          "base_uri": "https://localhost:8080/",
          "height": 286
        },
        "id": "yth7Vnrcbapm",
        "outputId": "9a5d2607-b78e-4582-f55e-d73a9a053c43"
      },
      "execution_count": null,
      "outputs": [
        {
          "output_type": "display_data",
          "data": {
            "text/html": [
              "<table class=\"dataframe\">\n",
              "<caption>A data.frame: 6 × 5</caption>\n",
              "<thead>\n",
              "\t<tr><th></th><th scope=col>Ppcode</th><th scope=col>Age</th><th scope=col>Sex</th><th scope=col>Love_music</th><th scope=col>Gigs</th></tr>\n",
              "\t<tr><th></th><th scope=col>&lt;int&gt;</th><th scope=col>&lt;int&gt;</th><th scope=col>&lt;chr&gt;</th><th scope=col>&lt;dbl&gt;</th><th scope=col>&lt;int&gt;</th></tr>\n",
              "</thead>\n",
              "<tbody>\n",
              "\t<tr><th scope=row>1</th><td>368</td><td>22</td><td>male</td><td>3.5</td><td>6</td></tr>\n",
              "\t<tr><th scope=row>2</th><td> 42</td><td>18</td><td>male</td><td>1.0</td><td>2</td></tr>\n",
              "\t<tr><th scope=row>3</th><td>509</td><td>47</td><td>male</td><td>1.3</td><td>3</td></tr>\n",
              "\t<tr><th scope=row>4</th><td> 43</td><td>20</td><td>male</td><td>3.7</td><td>8</td></tr>\n",
              "\t<tr><th scope=row>5</th><td>352</td><td>19</td><td>male</td><td>1.9</td><td>9</td></tr>\n",
              "\t<tr><th scope=row>6</th><td> 74</td><td>24</td><td>male</td><td>1.8</td><td>1</td></tr>\n",
              "</tbody>\n",
              "</table>\n"
            ],
            "text/markdown": "\nA data.frame: 6 × 5\n\n| <!--/--> | Ppcode &lt;int&gt; | Age &lt;int&gt; | Sex &lt;chr&gt; | Love_music &lt;dbl&gt; | Gigs &lt;int&gt; |\n|---|---|---|---|---|---|\n| 1 | 368 | 22 | male | 3.5 | 6 |\n| 2 |  42 | 18 | male | 1.0 | 2 |\n| 3 | 509 | 47 | male | 1.3 | 3 |\n| 4 |  43 | 20 | male | 3.7 | 8 |\n| 5 | 352 | 19 | male | 1.9 | 9 |\n| 6 |  74 | 24 | male | 1.8 | 1 |\n\n",
            "text/latex": "A data.frame: 6 × 5\n\\begin{tabular}{r|lllll}\n  & Ppcode & Age & Sex & Love\\_music & Gigs\\\\\n  & <int> & <int> & <chr> & <dbl> & <int>\\\\\n\\hline\n\t1 & 368 & 22 & male & 3.5 & 6\\\\\n\t2 &  42 & 18 & male & 1.0 & 2\\\\\n\t3 & 509 & 47 & male & 1.3 & 3\\\\\n\t4 &  43 & 20 & male & 3.7 & 8\\\\\n\t5 & 352 & 19 & male & 1.9 & 9\\\\\n\t6 &  74 & 24 & male & 1.8 & 1\\\\\n\\end{tabular}\n",
            "text/plain": [
              "  Ppcode Age Sex  Love_music Gigs\n",
              "1 368    22  male 3.5        6   \n",
              "2  42    18  male 1.0        2   \n",
              "3 509    47  male 1.3        3   \n",
              "4  43    20  male 3.7        8   \n",
              "5 352    19  male 1.9        9   \n",
              "6  74    24  male 1.8        1   "
            ]
          },
          "metadata": {}
        }
      ]
    },
    {
      "cell_type": "code",
      "source": [
        "#modelando o glm\n",
        "model1 <- glm(Gigs~ Sex + Age + Love_music, data = df, family = poisson(link=\"log\"))"
      ],
      "metadata": {
        "id": "bnyw4a90cKSW"
      },
      "execution_count": 5,
      "outputs": []
    },
    {
      "cell_type": "code",
      "source": [
        "summary(model1)"
      ],
      "metadata": {
        "colab": {
          "base_uri": "https://localhost:8080/",
          "height": 382
        },
        "id": "06o3778Scuqm",
        "outputId": "2a277c69-18a3-4b71-cd3f-fb47575ff4d7"
      },
      "execution_count": 6,
      "outputs": [
        {
          "output_type": "display_data",
          "data": {
            "text/plain": [
              "\n",
              "Call:\n",
              "glm(formula = Gigs ~ Sex + Age + Love_music, family = poisson(link = \"log\"), \n",
              "    data = df)\n",
              "\n",
              "Coefficients:\n",
              "            Estimate Std. Error z value Pr(>|z|)    \n",
              "(Intercept) 0.949000   0.116229   8.165 3.22e-16 ***\n",
              "Sex         0.034883   0.055885   0.624   0.5325    \n",
              "Age         0.004715   0.002464   1.914   0.0556 .  \n",
              "Love_music  0.194827   0.031946   6.099 1.07e-09 ***\n",
              "---\n",
              "Signif. codes:  0 ‘***’ 0.001 ‘**’ 0.01 ‘*’ 0.05 ‘.’ 0.1 ‘ ’ 1\n",
              "\n",
              "(Dispersion parameter for poisson family taken to be 1)\n",
              "\n",
              "    Null deviance: 322.94  on 256  degrees of freedom\n",
              "Residual deviance: 277.58  on 253  degrees of freedom\n",
              "AIC: 1144.1\n",
              "\n",
              "Number of Fisher Scoring iterations: 4\n"
            ]
          },
          "metadata": {}
        }
      ]
    }
  ]
}